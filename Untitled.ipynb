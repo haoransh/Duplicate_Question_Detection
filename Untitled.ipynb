{
 "cells": [
  {
   "cell_type": "code",
   "execution_count": 1,
   "metadata": {},
   "outputs": [
    {
     "name": "stdout",
     "output_type": "stream",
     "text": [
      "404351\n",
      "404351\n",
      "   id  qid1  qid2                                          question1  \\\n",
      "0   0     1     2  What is the step by step guide to invest in sh...   \n",
      "1   1     3     4  What is the story of Kohinoor (Koh-i-Noor) Dia...   \n",
      "2   2     5     6  How can I increase the speed of my internet co...   \n",
      "3   3     7     8  Why am I mentally very lonely? How can I solve...   \n",
      "4   4     9    10  Which one dissolve in water quikly sugar, salt...   \n",
      "5   5    11    12  Astrology: I am a Capricorn Sun Cap moon and c...   \n",
      "6   6    13    14                                Should I buy tiago?   \n",
      "7   7    15    16                     How can I be a good geologist?   \n",
      "8   8    17    18                    When do you use シ instead of し?   \n",
      "9   9    19    20  Motorola (company): Can I hack my Charter Moto...   \n",
      "\n",
      "                                           question2  is_duplicate  \n",
      "0  What is the step by step guide to invest in sh...             0  \n",
      "1  What would happen if the Indian government sto...             0  \n",
      "2  How can Internet speed be increased by hacking...             0  \n",
      "3  Find the remainder when [math]23^{24}[/math] i...             0  \n",
      "4            Which fish would survive in salt water?             0  \n",
      "5  I'm a triple Capricorn (Sun, Moon and ascendan...             1  \n",
      "6  What keeps childern active and far from phone ...             0  \n",
      "7          What should I do to be a great geologist?             1  \n",
      "8              When do you use \"&\" instead of \"and\"?             0  \n",
      "9  How do I hack Motorola DCX3400 for free internet?             0  \n",
      "id              0\n",
      "qid1            0\n",
      "qid2            0\n",
      "question1       1\n",
      "question2       2\n",
      "is_duplicate    0\n",
      "dtype: int64\n"
     ]
    }
   ],
   "source": [
    "import pandas as pd\n",
    "\n",
    "raw_data = pd.read_csv('data/questions.csv')\n",
    "print(len(raw_data))\n",
    "# raw_data = raw_data.dropna()\n",
    "print(len(raw_data))\n",
    "#the result is 404348, kind of different from the 404358 reported here\n",
    "#https://www.kaggle.com/rahulvks/data-clustering-and-data-visualization#\n",
    "\n",
    "print(raw_data.head(10))\n",
    "print(raw_data.isnull().sum())\n",
    "raw_data = raw_data.dropna()"
   ]
  },
  {
   "cell_type": "code",
   "execution_count": 2,
   "metadata": {},
   "outputs": [
    {
     "name": "stdout",
     "output_type": "stream",
     "text": [
      "0    255042\n",
      "1    149306\n",
      "Name: is_duplicate, dtype: int64\n",
      "base_acc:0.6307487609682748\n"
     ]
    }
   ],
   "source": [
    "print(raw_data.is_duplicate.value_counts())\n",
    "neg_cnts = len(raw_data[raw_data['is_duplicate'] == 0])\n",
    "pos_cnts = len(raw_data[raw_data['is_duplicate'] == 1])\n",
    "base_acc = max(pos_cnts, neg_cnts) / len(raw_data)\n",
    "print('base_acc:{}'.format(base_acc))"
   ]
  },
  {
   "cell_type": "code",
   "execution_count": 3,
   "metadata": {},
   "outputs": [
    {
     "name": "stdout",
     "output_type": "stream",
     "text": [
      "What is the step by step guide to invest in share market in india?\n",
      "What is the step by step guide to invest in share market?\n",
      "0\n",
      "How can I increase the speed of my internet connection while using a VPN?\n",
      "How can Internet speed be increased by hacking through DNS?\n",
      "0\n",
      "Astrology: I am a Capricorn Sun Cap moon and cap rising...what does that say about me?\n",
      "I'm a triple Capricorn (Sun, Moon and ascendant in Capricorn) What does this say about me?\n",
      "1\n"
     ]
    }
   ],
   "source": [
    "def split_train_dev_test(raw_data):\n",
    "    raw_data = raw_data['question1', 'question2', 'isduplicate']\n",
    "    train_size = int(0.8 * len(raw_data))\n",
    "    dev_size = int(0.1 * len(raw_data))\n",
    "    test_size = int(0.1 * len(raw_data))\n",
    "    train_data = raw_data[:train_size]\n",
    "    dev_data = raw_data[train_size : train_size + dev_size]\n",
    "    test_data = raw_data[train_size + dev_size : ]\n",
    "    return train_data\n",
    "\n",
    "print(raw_data.question1[0])\n",
    "print(raw_data.question2[0])\n",
    "print(raw_data.is_duplicate[0])\n",
    "\n",
    "\n",
    "print(raw_data.question1[2])\n",
    "print(raw_data.question2[2])\n",
    "print(raw_data.is_duplicate[2])\n",
    "\n",
    "print(raw_data.question1[5])\n",
    "print(raw_data.question2[5])\n",
    "print(raw_data.is_duplicate[5])"
   ]
  },
  {
   "cell_type": "code",
   "execution_count": 5,
   "metadata": {},
   "outputs": [],
   "source": [
    "import nltk\n",
    "from nltk.corpus import stopwords\n",
    "from nltk.tokenize import word_tokenize, sent_tokenize\n",
    "# stopwords: pronoun, wh-words. Maybe we should not remove these words\n",
    "\n",
    "\n",
    "stemmer = nltk.stem.SnowballStemmer('english')\n",
    "lemmatizer = nltk.wordnet.WordNetLemmatizer()\n",
    "\n",
    "list1 = raw_data.question1.values\n",
    "for q in raw_data.question1.values:\n",
    "    try:\n",
    "        word_tokenize(q)\n",
    "    except:\n",
    "        print(q)\n",
    "        break\n",
    "        \n",
    "tokens_q1 = [word_tokenize(q) for q in raw_data.question1.values]\n",
    "tokens_q2 = [word_tokenize(q) for q in raw_data.question2.values]"
   ]
  },
  {
   "cell_type": "code",
   "execution_count": null,
   "metadata": {},
   "outputs": [],
   "source": [
    "\n"
   ]
  }
 ],
 "metadata": {
  "kernelspec": {
   "display_name": "Python 3",
   "language": "python",
   "name": "python3"
  },
  "language_info": {
   "codemirror_mode": {
    "name": "ipython",
    "version": 3
   },
   "file_extension": ".py",
   "mimetype": "text/x-python",
   "name": "python",
   "nbconvert_exporter": "python",
   "pygments_lexer": "ipython3",
   "version": "3.5.6"
  }
 },
 "nbformat": 4,
 "nbformat_minor": 2
}
